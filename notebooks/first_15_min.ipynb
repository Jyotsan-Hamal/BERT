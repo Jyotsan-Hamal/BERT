{
 "cells": [
  {
   "cell_type": "code",
   "execution_count": 6,
   "id": "bf89f6ac-c383-4bd0-9455-9fbbc9b63aa2",
   "metadata": {},
   "outputs": [],
   "source": [
    "import torch\n",
    "import torch.nn as nn"
   ]
  },
  {
   "cell_type": "code",
   "execution_count": 1,
   "id": "c48b8660",
   "metadata": {},
   "outputs": [
    {
     "name": "stdout",
     "output_type": "stream",
     "text": [
      "250546\n"
     ]
    }
   ],
   "source": [
    "with open(\"Ok.txt\" , \"r\" ,encoding='utf-8') as f:\n",
    "    text = f.read()\n",
    "print(len(text))"
   ]
  },
  {
   "cell_type": "code",
   "execution_count": 2,
   "id": "9d9c91bb",
   "metadata": {},
   "outputs": [
    {
     "name": "stdout",
     "output_type": "stream",
     "text": [
      "['\\n', ' ', '!', '\"', '$', '%', '&', \"'\", '(', ')', '*', ',', '-', '.', '/', '0', '1', '2', '3', '4', '5', '6', '7', '8', '9', ':', ';', '?', 'A', 'B', 'C', 'D', 'E', 'F', 'G', 'H', 'I', 'J', 'K', 'L', 'M', 'N', 'O', 'P', 'Q', 'R', 'S', 'T', 'U', 'V', 'W', 'X', 'Y', 'Z', '[', ']', '_', 'a', 'b', 'c', 'd', 'e', 'f', 'g', 'h', 'i', 'j', 'k', 'l', 'm', 'n', 'o', 'p', 'q', 'r', 's', 't', 'u', 'v', 'w', 'x', 'y', 'z', '—', '‘', '’', '“', '”', '•', '™', '\\ufeff']\n"
     ]
    }
   ],
   "source": [
    "chars = sorted(set(text))\n",
    "print(chars)"
   ]
  },
  {
   "cell_type": "code",
   "execution_count": 3,
   "id": "f8e105d2",
   "metadata": {},
   "outputs": [],
   "source": [
    "string_to_int = {ch:i for i,ch in enumerate(chars) }\n",
    "int_to_string = { i:ch for i,ch in enumerate(chars) }"
   ]
  },
  {
   "cell_type": "code",
   "execution_count": 4,
   "id": "62dd7e87",
   "metadata": {},
   "outputs": [],
   "source": [
    "encode = lambda s: [string_to_int[c] for c in s]\n",
    "decode = lambda l: \"\".join([int_to_string[i] for i in l])"
   ]
  },
  {
   "cell_type": "code",
   "execution_count": 24,
   "id": "1636c288",
   "metadata": {},
   "outputs": [
    {
     "data": {
      "text/plain": [
       "[91, 48, 72, 1, 41, 82, 1, 46, 62, 58, 61, 62, 75, 76, 0, 0, 0, 37, 77, 8]"
      ]
     },
     "execution_count": 24,
     "metadata": {},
     "output_type": "execute_result"
    }
   ],
   "source": [
    "num = encode(text)\n",
    "num[:20]"
   ]
  },
  {
   "cell_type": "code",
   "execution_count": 7,
   "id": "a692781a-7ca9-4d0b-b285-e62dda485db3",
   "metadata": {},
   "outputs": [
    {
     "name": "stdout",
     "output_type": "stream",
     "text": [
      "cuda\n"
     ]
    }
   ],
   "source": [
    "import torch\n",
    "device = 'cuda' if torch.cuda.is_available() else 'cpu'\n",
    "print(device)\n",
    "block_size = 8\n",
    "batch_size = 4"
   ]
  },
  {
   "cell_type": "code",
   "execution_count": 8,
   "id": "1e38b7d1-4b50-491b-8a99-8633b88879ab",
   "metadata": {},
   "outputs": [
    {
     "name": "stdout",
     "output_type": "stream",
     "text": [
      "torch.Size([250546])\n"
     ]
    }
   ],
   "source": [
    "tensor_data = torch.tensor(encode(text),dtype=torch.long)\n",
    "print(tensor_data.shape)"
   ]
  },
  {
   "cell_type": "code",
   "execution_count": 26,
   "id": "35afb007-6407-48ea-90ed-476502e530b6",
   "metadata": {},
   "outputs": [],
   "source": [
    "n = int(0.8*len(tensor_data))\n",
    "train_data = tensor_data[:n]\n",
    "val_data = tensor_data[n:]"
   ]
  },
  {
   "cell_type": "code",
   "execution_count": 27,
   "id": "62c7046f-88e9-4526-a358-9879c87c2af6",
   "metadata": {},
   "outputs": [
    {
     "name": "stdout",
     "output_type": "stream",
     "text": [
      "when input is tensor([91]) target is tensor(48)\n",
      "when input is tensor([91, 48]) target is tensor(72)\n",
      "when input is tensor([91, 48, 72]) target is tensor(1)\n",
      "when input is tensor([91, 48, 72,  1]) target is tensor(41)\n",
      "when input is tensor([91, 48, 72,  1, 41]) target is tensor(82)\n",
      "when input is tensor([91, 48, 72,  1, 41, 82]) target is tensor(1)\n",
      "when input is tensor([91, 48, 72,  1, 41, 82,  1]) target is tensor(46)\n",
      "when input is tensor([91, 48, 72,  1, 41, 82,  1, 46]) target is tensor(62)\n"
     ]
    }
   ],
   "source": [
    "block_size = 8 \n",
    "x = train_data[:block_size]\n",
    "y = train_data[1:block_size+1]\n",
    "\n",
    "for i in range(block_size):\n",
    "    context = x[:i+1]\n",
    "    target = y[i]\n",
    "    print(\"when input is\",context , \"target is\",target)"
   ]
  },
  {
   "cell_type": "code",
   "execution_count": 10,
   "id": "b6c4376f-4440-4901-9b32-08f08598ff4d",
   "metadata": {},
   "outputs": [
    {
     "data": {
      "text/plain": [
       "Embedding(8, 8)"
      ]
     },
     "execution_count": 10,
     "metadata": {},
     "output_type": "execute_result"
    }
   ],
   "source": [
    "nn.Embedding(8,8)"
   ]
  },
  {
   "cell_type": "code",
   "execution_count": 12,
   "id": "ead8c20c-9e21-4ddd-bbc2-1077e68df6d6",
   "metadata": {},
   "outputs": [],
   "source": [
    "class Model(nn.Module):\n",
    "    def __init__(self,vocab_size):\n",
    "        super().__init__()\n",
    "        self.token_embedding_table = nn.Embedding(vocab_size,vocab_size)\n",
    "        print(\"sucess\")"
   ]
  },
  {
   "cell_type": "code",
   "execution_count": null,
   "id": "73caa7dc-b4ea-4914-a9ca-16dbebde978e",
   "metadata": {},
   "outputs": [],
   "source": []
  }
 ],
 "metadata": {
  "kernelspec": {
   "display_name": "cuda-gpt22",
   "language": "python",
   "name": "cuda"
  },
  "language_info": {
   "codemirror_mode": {
    "name": "ipython",
    "version": 3
   },
   "file_extension": ".py",
   "mimetype": "text/x-python",
   "name": "python",
   "nbconvert_exporter": "python",
   "pygments_lexer": "ipython3",
   "version": "3.10.12"
  }
 },
 "nbformat": 4,
 "nbformat_minor": 5
}
