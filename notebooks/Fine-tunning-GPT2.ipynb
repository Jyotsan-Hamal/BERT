{
 "cells": [
  {
   "cell_type": "code",
   "execution_count": null,
   "id": "29ba184e",
   "metadata": {},
   "outputs": [],
   "source": [
    "from transformers import AutoTokenizer, AutoModelForCausalLM, Trainer, TrainingArguments\n",
    "\n",
    "# Load a pre-trained model and tokenizer\n",
    "model = AutoModelForCausalLM.from_pretrained('gpt-2')\n",
    "tokenizer = AutoTokenizer.from_pretrained('gpt-2')\n",
    "\n",
    "# Tokenize your book text\n",
    "book_text = \"...\"  # Your book text here\n",
    "inputs = tokenizer(book_text, return_tensors='pt')\n",
    "\n",
    "# Prepare your training data\n",
    "train_data = inputs.input_ids\n",
    "\n",
    "# Define the training arguments\n",
    "training_args = TrainingArguments(\n",
    "    output_dir='./results',\n",
    "    num_train_epochs=3,\n",
    "    per_device_train_batch_size=16,\n",
    "    per_device_eval_batch_size=64,\n",
    "    warmup_steps=500,\n",
    "    weight_decay=0.01,\n",
    ")\n",
    "\n",
    "# Create the trainer\n",
    "trainer = Trainer(\n",
    "    model=model,\n",
    "    args=training_args,\n",
    "    train_dataset=train_data,\n",
    ")\n",
    "\n",
    "# Train the model\n",
    "trainer.train()\n",
    "\n",
    "# Save the model\n",
    "model.save_pretrained('./my_book_bot')\n",
    "\n",
    "# Load the fine-tuned model\n",
    "my_book_bot = AutoModelForCausalLM.from_pretrained('./my_book_bot')\n",
    "\n",
    "# Use the chatbot\n",
    "chat_input = \"What happens in chapter 1?\"  # User input here\n",
    "chat_output = my_book_bot(chat_input)\n",
    "print(chat_output)\n"
   ]
  }
 ],
 "metadata": {
  "kernelspec": {
   "display_name": "Python 3 (ipykernel)",
   "language": "python",
   "name": "python3"
  },
  "language_info": {
   "codemirror_mode": {
    "name": "ipython",
    "version": 3
   },
   "file_extension": ".py",
   "mimetype": "text/x-python",
   "name": "python",
   "nbconvert_exporter": "python",
   "pygments_lexer": "ipython3",
   "version": "3.9.13"
  }
 },
 "nbformat": 4,
 "nbformat_minor": 5
}
