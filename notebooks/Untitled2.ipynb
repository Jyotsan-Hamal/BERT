{
 "cells": [
  {
   "cell_type": "code",
   "execution_count": 1,
   "id": "755cbf2a",
   "metadata": {},
   "outputs": [
    {
     "ename": "ModuleNotFoundError",
     "evalue": "No module named 'transformers'",
     "output_type": "error",
     "traceback": [
      "\u001b[1;31m---------------------------------------------------------------------------\u001b[0m",
      "\u001b[1;31mModuleNotFoundError\u001b[0m                       Traceback (most recent call last)",
      "\u001b[1;32m~\\AppData\\Local\\Temp\\ipykernel_11812\\2024238017.py\u001b[0m in \u001b[0;36m<module>\u001b[1;34m\u001b[0m\n\u001b[1;32m----> 1\u001b[1;33m \u001b[1;32mfrom\u001b[0m \u001b[0mtransformers\u001b[0m \u001b[1;32mimport\u001b[0m \u001b[0mBertTokenizer\u001b[0m\u001b[1;33m,\u001b[0m \u001b[0mBertForMaskedLM\u001b[0m\u001b[1;33m\u001b[0m\u001b[1;33m\u001b[0m\u001b[0m\n\u001b[0m\u001b[0;32m      2\u001b[0m \u001b[1;32mimport\u001b[0m \u001b[0mtorch\u001b[0m\u001b[1;33m\u001b[0m\u001b[1;33m\u001b[0m\u001b[0m\n\u001b[0;32m      3\u001b[0m \u001b[1;33m\u001b[0m\u001b[0m\n\u001b[0;32m      4\u001b[0m \u001b[0mtokenizer\u001b[0m \u001b[1;33m=\u001b[0m \u001b[0mBertTokenizer\u001b[0m\u001b[1;33m.\u001b[0m\u001b[0mfrom_pretrained\u001b[0m\u001b[1;33m(\u001b[0m\u001b[1;34m'bert-large-uncased'\u001b[0m\u001b[1;33m)\u001b[0m\u001b[1;33m\u001b[0m\u001b[1;33m\u001b[0m\u001b[0m\n\u001b[0;32m      5\u001b[0m \u001b[0mmodel\u001b[0m \u001b[1;33m=\u001b[0m \u001b[0mBertForMaskedLM\u001b[0m\u001b[1;33m.\u001b[0m\u001b[0mfrom_pretrained\u001b[0m\u001b[1;33m(\u001b[0m\u001b[1;34m'bert-large-uncased'\u001b[0m\u001b[1;33m)\u001b[0m\u001b[1;33m\u001b[0m\u001b[1;33m\u001b[0m\u001b[0m\n",
      "\u001b[1;31mModuleNotFoundError\u001b[0m: No module named 'transformers'"
     ]
    }
   ],
   "source": [
    "from transformers import BertTokenizer, BertForMaskedLM\n",
    "import torch\n",
    "\n",
    "tokenizer = BertTokenizer.from_pretrained('bert-large-uncased')\n",
    "model = BertForMaskedLM.from_pretrained('bert-large-uncased')"
   ]
  },
  {
   "cell_type": "code",
   "execution_count": 3,
   "id": "e411bdd3",
   "metadata": {},
   "outputs": [
    {
     "name": "stdout",
     "output_type": "stream",
     "text": [
      "Requirement already satisfied: pip in c:\\users\\hp\\anaconda3\\envs\\tensor\\lib\\site-packages (23.2.1)\n",
      "Collecting pip\n",
      "  Obtaining dependency information for pip from https://files.pythonhosted.org/packages/47/6a/453160888fab7c6a432a6e25f8afe6256d0d9f2cbd25971021da6491d899/pip-23.3.1-py3-none-any.whl.metadata\n",
      "  Downloading pip-23.3.1-py3-none-any.whl.metadata (3.5 kB)\n",
      "Downloading pip-23.3.1-py3-none-any.whl (2.1 MB)\n",
      "   ---------------------------------------- 0.0/2.1 MB ? eta -:--:--\n",
      "    --------------------------------------- 0.0/2.1 MB 660.6 kB/s eta 0:00:04\n",
      "    --------------------------------------- 0.0/2.1 MB 660.6 kB/s eta 0:00:04\n",
      "    --------------------------------------- 0.0/2.1 MB 660.6 kB/s eta 0:00:04\n",
      "    --------------------------------------- 0.0/2.1 MB 164.3 kB/s eta 0:00:13\n",
      "   - -------------------------------------- 0.1/2.1 MB 403.5 kB/s eta 0:00:05\n",
      "   - -------------------------------------- 0.1/2.1 MB 403.5 kB/s eta 0:00:05\n",
      "   - -------------------------------------- 0.1/2.1 MB 403.5 kB/s eta 0:00:05\n",
      "   - -------------------------------------- 0.1/2.1 MB 403.5 kB/s eta 0:00:05\n",
      "   - -------------------------------------- 0.1/2.1 MB 403.5 kB/s eta 0:00:05\n",
      "   - -------------------------------------- 0.1/2.1 MB 403.5 kB/s eta 0:00:05\n",
      "   --- ------------------------------------ 0.2/2.1 MB 368.6 kB/s eta 0:00:06\n",
      "   --- ------------------------------------ 0.2/2.1 MB 368.6 kB/s eta 0:00:06\n",
      "   --- ------------------------------------ 0.2/2.1 MB 368.6 kB/s eta 0:00:06\n",
      "   --- ------------------------------------ 0.2/2.1 MB 368.6 kB/s eta 0:00:06\n",
      "   --- ------------------------------------ 0.2/2.1 MB 368.6 kB/s eta 0:00:06\n",
      "   ------ --------------------------------- 0.3/2.1 MB 423.3 kB/s eta 0:00:05\n",
      "   ------ --------------------------------- 0.3/2.1 MB 423.3 kB/s eta 0:00:05\n",
      "   ------- -------------------------------- 0.4/2.1 MB 449.4 kB/s eta 0:00:04\n",
      "   -------- ------------------------------- 0.5/2.1 MB 478.1 kB/s eta 0:00:04\n",
      "   --------- ------------------------------ 0.5/2.1 MB 489.1 kB/s eta 0:00:04\n",
      "   --------- ------------------------------ 0.5/2.1 MB 489.1 kB/s eta 0:00:04\n",
      "   --------- ------------------------------ 0.5/2.1 MB 475.0 kB/s eta 0:00:04\n",
      "   ----------- ---------------------------- 0.6/2.1 MB 531.9 kB/s eta 0:00:03\n",
      "   ----------- ---------------------------- 0.6/2.1 MB 522.6 kB/s eta 0:00:03\n",
      "   ----------- ---------------------------- 0.6/2.1 MB 522.6 kB/s eta 0:00:03\n",
      "   ------------- -------------------------- 0.7/2.1 MB 550.5 kB/s eta 0:00:03\n",
      "   ------------- -------------------------- 0.7/2.1 MB 546.3 kB/s eta 0:00:03\n",
      "   -------------- ------------------------- 0.8/2.1 MB 566.0 kB/s eta 0:00:03\n",
      "   ----------------- ---------------------- 0.9/2.1 MB 620.0 kB/s eta 0:00:02\n",
      "   ------------------ --------------------- 1.0/2.1 MB 655.5 kB/s eta 0:00:02\n",
      "   -------------------- ------------------- 1.1/2.1 MB 688.9 kB/s eta 0:00:02\n",
      "   --------------------- ------------------ 1.1/2.1 MB 707.3 kB/s eta 0:00:02\n",
      "   ---------------------- ----------------- 1.2/2.1 MB 737.3 kB/s eta 0:00:02\n",
      "   ------------------------ --------------- 1.3/2.1 MB 766.0 kB/s eta 0:00:02\n",
      "   ------------------------- -------------- 1.3/2.1 MB 775.7 kB/s eta 0:00:02\n",
      "   --------------------------- ------------ 1.5/2.1 MB 810.7 kB/s eta 0:00:01\n",
      "   ----------------------------- ---------- 1.5/2.1 MB 834.7 kB/s eta 0:00:01\n",
      "   ------------------------------ --------- 1.6/2.1 MB 856.0 kB/s eta 0:00:01\n",
      "   -------------------------------- ------- 1.7/2.1 MB 879.5 kB/s eta 0:00:01\n",
      "   ---------------------------------- ----- 1.8/2.1 MB 901.1 kB/s eta 0:00:01\n",
      "   ----------------------------------- ---- 1.9/2.1 MB 920.9 kB/s eta 0:00:01\n",
      "   ------------------------------------- -- 2.0/2.1 MB 937.1 kB/s eta 0:00:01\n",
      "   ---------------------------------------  2.1/2.1 MB 962.2 kB/s eta 0:00:01\n",
      "   ---------------------------------------  2.1/2.1 MB 962.2 kB/s eta 0:00:01\n",
      "   ---------------------------------------- 2.1/2.1 MB 932.0 kB/s eta 0:00:00\n",
      "Installing collected packages: pip\n",
      "  Attempting uninstall: pip\n",
      "    Found existing installation: pip 23.2.1\n",
      "    Uninstalling pip-23.2.1:\n",
      "      Successfully uninstalled pip-23.2.1\n",
      "Successfully installed pip-23.3.1\n"
     ]
    }
   ],
   "source": [
    "!python.exe -m pip install --upgrade pip"
   ]
  },
  {
   "cell_type": "code",
   "execution_count": null,
   "id": "c4903375",
   "metadata": {},
   "outputs": [],
   "source": []
  }
 ],
 "metadata": {
  "kernelspec": {
   "display_name": "Python 3 (ipykernel)",
   "language": "python",
   "name": "python3"
  },
  "language_info": {
   "codemirror_mode": {
    "name": "ipython",
    "version": 3
   },
   "file_extension": ".py",
   "mimetype": "text/x-python",
   "name": "python",
   "nbconvert_exporter": "python",
   "pygments_lexer": "ipython3",
   "version": "3.9.13"
  }
 },
 "nbformat": 4,
 "nbformat_minor": 5
}
