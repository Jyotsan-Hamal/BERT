{
 "cells": [
  {
   "cell_type": "code",
   "execution_count": 1,
   "id": "2fb176f1-84cc-4c57-8a00-51b8943c6e18",
   "metadata": {},
   "outputs": [],
   "source": [
    "import torch"
   ]
  },
  {
   "cell_type": "code",
   "execution_count": 54,
   "id": "bb8b6f29-6d06-44c5-9a49-bef1aeabd39e",
   "metadata": {},
   "outputs": [
    {
     "data": {
      "text/plain": [
       "tensor([[[[0.8075, 0.8219],\n",
       "          [0.8193, 0.6383]],\n",
       "\n",
       "         [[0.4155, 0.0513],\n",
       "          [0.0983, 0.6230]]],\n",
       "\n",
       "\n",
       "        [[[0.5766, 0.0856],\n",
       "          [0.5495, 0.8380]],\n",
       "\n",
       "         [[0.0859, 0.8789],\n",
       "          [0.7645, 0.2655]]]])"
      ]
     },
     "execution_count": 54,
     "metadata": {},
     "output_type": "execute_result"
    }
   ],
   "source": [
    "tensor = torch.rand(2,2,2,2)\n",
    "tensor"
   ]
  },
  {
   "cell_type": "code",
   "execution_count": 2,
   "id": "bbc4743f-9c8f-4a3b-a815-77e6e1e38725",
   "metadata": {},
   "outputs": [
    {
     "data": {
      "text/plain": [
       "tensor([[ 92, -85,  50,  53,  59, -11],\n",
       "        [ -1,  16,  35,  51, -91, -88]])"
      ]
     },
     "execution_count": 2,
     "metadata": {},
     "output_type": "execute_result"
    }
   ],
   "source": [
    "randint = torch.randint(-100,100,(2,6))\n",
    "randint"
   ]
  },
  {
   "cell_type": "code",
   "execution_count": 4,
   "id": "65cf7ea2-8ce5-4951-8837-4dac949d2e4b",
   "metadata": {},
   "outputs": [
    {
     "data": {
      "text/plain": [
       "tensor([[ 1, 12, 12],\n",
       "        [34, 22, 11],\n",
       "        [ 1,  2,  3],\n",
       "        [ 4,  5,  6]])"
      ]
     },
     "execution_count": 4,
     "metadata": {},
     "output_type": "execute_result"
    }
   ],
   "source": [
    "tensors = torch.tensor([[1,12,12],\n",
    "                       [34,22,11],\n",
    "                       [1,2,3],\n",
    "                       [4,5,6]])\n",
    "tensors"
   ]
  },
  {
   "cell_type": "code",
   "execution_count": 5,
   "id": "5d978120-0d94-492f-bef3-0471e730f1d8",
   "metadata": {},
   "outputs": [
    {
     "data": {
      "text/plain": [
       "tensor([[0., 0., 0., 0.],\n",
       "        [0., 0., 0., 0.]])"
      ]
     },
     "execution_count": 5,
     "metadata": {},
     "output_type": "execute_result"
    }
   ],
   "source": [
    "zeros = torch.zeros(2,4)\n",
    "zeros"
   ]
  },
  {
   "cell_type": "code",
   "execution_count": 6,
   "id": "1febbafa-3cac-4a6c-abae-ad2762b82585",
   "metadata": {},
   "outputs": [
    {
     "data": {
      "text/plain": [
       "tensor([[1., 1., 1., 1.],\n",
       "        [1., 1., 1., 1.],\n",
       "        [1., 1., 1., 1.]])"
      ]
     },
     "execution_count": 6,
     "metadata": {},
     "output_type": "execute_result"
    }
   ],
   "source": [
    "ones = torch.ones(3,4)\n",
    "ones"
   ]
  },
  {
   "cell_type": "code",
   "execution_count": 10,
   "id": "6d95d193-8348-46b9-bb71-adc35e00e564",
   "metadata": {},
   "outputs": [
    {
     "data": {
      "text/plain": [
       "tensor([ 0.0000,  0.5263,  1.0526,  1.5789,  2.1053,  2.6316,  3.1579,  3.6842,\n",
       "         4.2105,  4.7368,  5.2632,  5.7895,  6.3158,  6.8421,  7.3684,  7.8947,\n",
       "         8.4211,  8.9474,  9.4737, 10.0000])"
      ]
     },
     "execution_count": 10,
     "metadata": {},
     "output_type": "execute_result"
    }
   ],
   "source": [
    "linspace = torch.linspace(0,10,steps=20)\n",
    "linspace"
   ]
  },
  {
   "cell_type": "code",
   "execution_count": 11,
   "id": "edd61a61-18f9-4c6d-92f9-b9114308c440",
   "metadata": {},
   "outputs": [
    {
     "data": {
      "text/plain": [
       "tensor([[1., 0., 0., 0.],\n",
       "        [0., 1., 0., 0.],\n",
       "        [0., 0., 1., 0.],\n",
       "        [0., 0., 0., 1.]])"
      ]
     },
     "execution_count": 11,
     "metadata": {},
     "output_type": "execute_result"
    }
   ],
   "source": [
    "eye = torch.eye(4)\n",
    "eye"
   ]
  },
  {
   "cell_type": "markdown",
   "id": "65a35c4b-e202-46ba-be1b-7d399d0426a6",
   "metadata": {},
   "source": [
    "## Now using CUDA "
   ]
  },
  {
   "cell_type": "code",
   "execution_count": 14,
   "id": "41d7d924-0bfb-4b70-89da-5038f079d778",
   "metadata": {},
   "outputs": [],
   "source": [
    "import time\n",
    "import numpy as np"
   ]
  },
  {
   "cell_type": "code",
   "execution_count": 13,
   "id": "64a2ece6-c0fa-4aa0-9ae2-bee07ca29b29",
   "metadata": {},
   "outputs": [
    {
     "data": {
      "text/plain": [
       "'cuda'"
      ]
     },
     "execution_count": 13,
     "metadata": {},
     "output_type": "execute_result"
    }
   ],
   "source": [
    "device = 'cuda' if torch.cuda.is_available() else 'device'\n",
    "device"
   ]
  },
  {
   "cell_type": "code",
   "execution_count": 27,
   "id": "0efd1a68-54ea-46ce-9a65-2667510024b8",
   "metadata": {},
   "outputs": [
    {
     "name": "stdout",
     "output_type": "stream",
     "text": [
      "0.0000000000000000000000000000000000000000000000000000000000000000000000000000000000000000000000000000\n"
     ]
    }
   ],
   "source": [
    "start_time = time.time()\n",
    "tensors = torch.linspace(-100,100,steps=1000)\n",
    "\n",
    "end_time = time.time()\n",
    "final = start_time - end_time\n",
    "print(f\"{final:.100f}\")"
   ]
  },
  {
   "cell_type": "markdown",
   "id": "90654d57-4da5-47ad-ab3b-eda656e333b6",
   "metadata": {},
   "source": [
    "# Numpy in CPU vs Torch in CUDA"
   ]
  },
  {
   "cell_type": "code",
   "execution_count": 36,
   "id": "1a2b0d92-31a9-4cc6-8e5a-61c4f46480ea",
   "metadata": {},
   "outputs": [
    {
     "name": "stdout",
     "output_type": "stream",
     "text": [
      "torch time = 0.00199\n",
      "numpy time =  0.24020\n"
     ]
    }
   ],
   "source": [
    "torch_rand1 = torch.rand(100,100,100,100).to(device)\n",
    "torch_rand2 = torch.rand(100,100,100,100).to(device)\n",
    "start_time = time.time()\n",
    "torch_rand = (torch_rand1 @ torch_rand2)\n",
    "end_time = time.time()\n",
    "\n",
    "elapsed_time = end_time-start_time\n",
    "print(f\"torch time = {elapsed_time:.5f}\")\n",
    "\n",
    "\n",
    "np_rand1 = torch.rand(100,100,100,100)\n",
    "np_rand2 = torch.rand(100,100,100,100)\n",
    "\n",
    "start_time = time.time()\n",
    "np_rand = np.multiply(np_rand1 ,np_rand2)\n",
    "end_time = time.time()\n",
    "\n",
    "elapsed_time = end_time - start_time\n",
    "print(f\"numpy time =  { elapsed_time:.5f}\")"
   ]
  },
  {
   "cell_type": "markdown",
   "id": "87befeb1-6f58-4e7a-90aa-630b9a1ef933",
   "metadata": {},
   "source": [
    "## Torch Function"
   ]
  },
  {
   "cell_type": "markdown",
   "id": "41e827e2-2aa1-4aaf-9554-18b32b7d5c4b",
   "metadata": {},
   "source": [
    "### 1.Multinomial Probabilities"
   ]
  },
  {
   "cell_type": "code",
   "execution_count": 43,
   "id": "f5869891-576d-45c2-a5b5-d93698d84480",
   "metadata": {},
   "outputs": [
    {
     "name": "stdout",
     "output_type": "stream",
     "text": [
      "tensor([1, 1, 1, 0, 1, 1, 1, 1, 1, 1])\n"
     ]
    }
   ],
   "source": [
    "\n",
    "probabilities = torch.tensor([0.1,0.9])\n",
    "# 0.1 means 10% and 0.9 means 90%\n",
    "data = torch.multinomial(probabilities,num_samples=10,replacement=True)\n",
    "print(data)"
   ]
  },
  {
   "cell_type": "markdown",
   "id": "1b2a4c84-d4f6-430a-97c8-11683c2e90b1",
   "metadata": {},
   "source": [
    "### 2.Concate two tensor into One, torch.cat()"
   ]
  },
  {
   "cell_type": "code",
   "execution_count": 47,
   "id": "7cb02f98-5643-4edb-a88b-c48e501039ed",
   "metadata": {},
   "outputs": [
    {
     "data": {
      "text/plain": [
       "tensor([1, 2, 3, 4, 5, 0, 3])"
      ]
     },
     "execution_count": 47,
     "metadata": {},
     "output_type": "execute_result"
    }
   ],
   "source": [
    "tensor = torch.tensor([1,2,3,4,5])\n",
    "out = torch.cat((tensor,torch.tensor([0,3])),dim=0)\n",
    "out"
   ]
  },
  {
   "cell_type": "markdown",
   "id": "63c6c7a1-9b00-4871-ad0c-74075d435994",
   "metadata": {},
   "source": [
    "### 3.Torch triangle lower shortform torch.tril()"
   ]
  },
  {
   "cell_type": "code",
   "execution_count": 57,
   "id": "fce9252e-cc6d-4dce-b8fa-6f7443ed8c80",
   "metadata": {},
   "outputs": [
    {
     "data": {
      "text/plain": [
       "tensor([[1., 0., 0., 0.],\n",
       "        [1., 1., 0., 0.],\n",
       "        [1., 1., 1., 0.],\n",
       "        [1., 1., 1., 1.]])"
      ]
     },
     "execution_count": 57,
     "metadata": {},
     "output_type": "execute_result"
    }
   ],
   "source": [
    "tri = torch.tril(torch.ones(4,4))\n",
    "tri"
   ]
  },
  {
   "cell_type": "markdown",
   "id": "e81fb8fe-a36d-4b91-8e50-0cf8d2b3ba83",
   "metadata": {},
   "source": [
    "### 4.Torch triangle higher shortform torch.triu()"
   ]
  },
  {
   "cell_type": "code",
   "execution_count": 58,
   "id": "0427edfe-42eb-4b33-90ff-cef4636e8c53",
   "metadata": {},
   "outputs": [
    {
     "data": {
      "text/plain": [
       "tensor([[1., 1., 1., 1.],\n",
       "        [0., 1., 1., 1.],\n",
       "        [0., 0., 1., 1.],\n",
       "        [0., 0., 0., 1.]])"
      ]
     },
     "execution_count": 58,
     "metadata": {},
     "output_type": "execute_result"
    }
   ],
   "source": [
    "triu = torch.triu(torch.ones(4,4))\n",
    "triu"
   ]
  },
  {
   "cell_type": "markdown",
   "id": "6e2a439f-645a-40b7-86c1-0f1b7b6e9d1c",
   "metadata": {},
   "source": [
    "### 5.Torch Mask Fill"
   ]
  },
  {
   "cell_type": "code",
   "execution_count": 73,
   "id": "3a7f6ff1-6344-486f-8f84-6dd14046b5ca",
   "metadata": {},
   "outputs": [
    {
     "data": {
      "text/plain": [
       "tensor([[1., -inf, -inf, -inf, -inf],\n",
       "        [1., 1., -inf, -inf, -inf],\n",
       "        [1., 1., 1., -inf, -inf],\n",
       "        [1., 1., 1., 1., -inf],\n",
       "        [1., 1., 1., 1., 1.]])"
      ]
     },
     "execution_count": 73,
     "metadata": {},
     "output_type": "execute_result"
    }
   ],
   "source": [
    "inf_value = float('-inf')\n",
    "mask = torch.tril(torch.ones(5, 5)) == 0\n",
    "out = torch.ones(5,5).masked_fill(mask, inf_value)\n",
    "out"
   ]
  },
  {
   "cell_type": "markdown",
   "id": "904a5978-4844-4371-b1e6-0476e9c9fd71",
   "metadata": {},
   "source": [
    "### 6.torch.exp()"
   ]
  },
  {
   "cell_type": "code",
   "execution_count": 74,
   "id": "7090764e-32e8-4834-b641-bb1bfdfcc8f1",
   "metadata": {},
   "outputs": [
    {
     "data": {
      "text/plain": [
       "tensor([[2.7183, 0.0000, 0.0000, 0.0000, 0.0000],\n",
       "        [2.7183, 2.7183, 0.0000, 0.0000, 0.0000],\n",
       "        [2.7183, 2.7183, 2.7183, 0.0000, 0.0000],\n",
       "        [2.7183, 2.7183, 2.7183, 2.7183, 0.0000],\n",
       "        [2.7183, 2.7183, 2.7183, 2.7183, 2.7183]])"
      ]
     },
     "execution_count": 74,
     "metadata": {},
     "output_type": "execute_result"
    }
   ],
   "source": [
    "torch.exp(out)"
   ]
  },
  {
   "cell_type": "markdown",
   "id": "b896c29b-e7eb-45ac-ba96-e108112ad291",
   "metadata": {},
   "source": [
    "### 7.torch.transpose()"
   ]
  },
  {
   "cell_type": "code",
   "execution_count": 77,
   "id": "16e866d5-6c52-44c1-ac29-3d136383b685",
   "metadata": {},
   "outputs": [
    {
     "data": {
      "text/plain": [
       "torch.Size([2, 5, 4])"
      ]
     },
     "execution_count": 77,
     "metadata": {},
     "output_type": "execute_result"
    }
   ],
   "source": [
    "zeros = torch.zeros(4,5,2)\n",
    "transposed = zeros.transpose(0,2) \n",
    "# swapped the index 0 with index 2 in zeros shaped \n",
    "transposed.shape"
   ]
  },
  {
   "cell_type": "markdown",
   "id": "c14a61ed-870e-4af5-aecc-0eb1db4e3cf5",
   "metadata": {},
   "source": [
    "### 8.torch.stack()"
   ]
  },
  {
   "cell_type": "code",
   "execution_count": 88,
   "id": "594ae622-6a85-4da3-8448-f422c4003c37",
   "metadata": {},
   "outputs": [
    {
     "data": {
      "text/plain": [
       "tensor([[1, 2, 6, 7],\n",
       "        [7, 5, 6, 1],\n",
       "        [5, 5, 7, 6]])"
      ]
     },
     "execution_count": 88,
     "metadata": {},
     "output_type": "execute_result"
    }
   ],
   "source": [
    "tensor1 = torch.randint(1,9,(4,))\n",
    "tensor2 = torch.randint(1,9,(4,))\n",
    "tensor3 = torch.randint(1,9,(4,))\n",
    "\n",
    "stack = torch.stack([tensor1,tensor2,tensor3])\n",
    "stack"
   ]
  },
  {
   "cell_type": "markdown",
   "id": "84918225-d2fc-4367-a3c4-185e8d3bb3f0",
   "metadata": {},
   "source": [
    "## Simple Linear Neural Network|"
   ]
  },
  {
   "cell_type": "code",
   "execution_count": 92,
   "id": "dc902025-50dc-4d12-adb4-2c5d40ff0b2a",
   "metadata": {},
   "outputs": [
    {
     "data": {
      "text/plain": [
       "tensor([ 48.3907, -18.2303, -17.3602,  37.9678], grad_fn=<SqueezeBackward4>)"
      ]
     },
     "execution_count": 92,
     "metadata": {},
     "output_type": "execute_result"
    }
   ],
   "source": [
    "import torch.nn as nn\n",
    "sample = torch.tensor([12,13,120, 9],dtype=torch.float32)\n",
    "linear = nn.Linear(4,4,bias=False)\n",
    "linear(sample)"
   ]
  },
  {
   "cell_type": "markdown",
   "id": "00d025b3-4ff5-4916-b80f-6062e969f5af",
   "metadata": {},
   "source": [
    "## 10.Softmax function"
   ]
  },
  {
   "cell_type": "code",
   "execution_count": 94,
   "id": "ba56fde1-86b1-4420-a66d-1810b1998427",
   "metadata": {},
   "outputs": [
    {
     "data": {
      "text/plain": [
       "tensor([8.5301e-04, 4.6573e-02, 9.3544e-01, 1.7133e-02])"
      ]
     },
     "execution_count": 94,
     "metadata": {},
     "output_type": "execute_result"
    }
   ],
   "source": [
    "import torch.nn.functional as F\n",
    "tensor = torch.tensor([1,5,8,4],dtype=torch.float32)\n",
    "softmax = F.softmax(tensor,dim=0)\n",
    "softmax"
   ]
  },
  {
   "cell_type": "code",
   "execution_count": null,
   "id": "464245a0-4916-4824-bc4a-db210f760a96",
   "metadata": {},
   "outputs": [],
   "source": []
  }
 ],
 "metadata": {
  "kernelspec": {
   "display_name": "cuda-gpt22",
   "language": "python",
   "name": "cuda"
  },
  "language_info": {
   "codemirror_mode": {
    "name": "ipython",
    "version": 3
   },
   "file_extension": ".py",
   "mimetype": "text/x-python",
   "name": "python",
   "nbconvert_exporter": "python",
   "pygments_lexer": "ipython3",
   "version": "3.10.12"
  }
 },
 "nbformat": 4,
 "nbformat_minor": 5
}
